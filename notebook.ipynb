{
 "cells": [
  {
   "cell_type": "code",
   "execution_count": null,
   "id": "ec0e6dba-d23a-473d-963d-66fc959efb84",
   "metadata": {
    "tags": []
   },
   "outputs": [],
   "source": [
    "from pywebio.input import *\n",
    "from pywebio.output import *\n",
    "from pywebio.platform.flask import webio_view\n",
    "from flask import Flask\n",
    "\n",
    "app = Flask(__name__)\n",
    "\n",
    "\n",
    "def generate_guid():\n",
    "    import uuid\n",
    "\n",
    "    put_html(\"<h1>UUID GENERATOR<h1>\")\n",
    "    put_text(\n",
    "        \"A universally unique identifier (UUID) is a 128-bit label used for information in computer systems. The term globally unique identifier (GUID) is also used. When generated according to the standard methods, UUIDs are, for practical purposes, unique. Their uniqueness does not depend on a central registration authority or coordination between the parties generating them, unlike most other numbering schemes. While the probability that a UUID will be duplicated is not zero, it is close enough to zero to be negligible. Thus, anyone can create a UUID and use it to identify something with near certainty that the identifier does not duplicate one that has already been, or will be, created to identify something else. Information labeled with UUIDs by independent parties can therefore be later combined into a single database or transmitted on the same channel, with a negligible probability of duplication. Adoption of UUIDs is widespread, with many computing platforms providing support for generating them and for parsing their textual representation. REFERENCE:https://en.wikipedia.org/wiki/Universally_unique_identifier\"\n",
    "    )\n",
    "    xtimes = select(\"Generate UUIDs\", [1, 2, 5, 7])\n",
    "    lst = [str(uuid.uuid4()) + \"<br/>\" for x in range(xtimes)]\n",
    "    put_table([[\"UUIDs Generated\", put_html(\" \".join(lst))]])\n",
    "\n",
    "\n",
    "app.add_url_rule(\n",
    "    \"/\", \"webio_view\", webio_view(generate_guid), methods=[\"GET\", \"POST\", \"OPTIONS\"]\n",
    ")\n",
    "app.run(host=\"0.0.0.0\", port=80)"
   ]
  }
 ],
 "metadata": {
  "kernelspec": {
   "display_name": "Python 3 (ipykernel)",
   "language": "python",
   "name": "python3"
  },
  "language_info": {
   "codemirror_mode": {
    "name": "ipython",
    "version": 3
   },
   "file_extension": ".py",
   "mimetype": "text/x-python",
   "name": "python",
   "nbconvert_exporter": "python",
   "pygments_lexer": "ipython3",
   "version": "3.9.12"
  }
 },
 "nbformat": 4,
 "nbformat_minor": 5
}
